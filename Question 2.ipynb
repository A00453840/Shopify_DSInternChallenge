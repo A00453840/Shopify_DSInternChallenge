{
 "cells": [
  {
   "cell_type": "markdown",
   "id": "b8d31203",
   "metadata": {},
   "source": [
    "##### a) How many orders were shipped by Speedy Express in total?\n",
    "- SELECT ShipperName as Shipper_Name, COUNT(*) as Total_Orders_Shipped FROM Shippers LEFT JOIN Orders ON Shippers.ShipperID = Orders.ShipperID WHERE ShipperName = \"Speedy Express\" GROUP BY ShipperName\n",
    "\n",
    "Result: Speedy Express : 54 \n",
    "\n",
    "##### b)What is the last name of the employee with the most orders?\n",
    "- SELECT TOP 1 * FROM (SELECT LastName as Last_Name, COUNT(*) as Number_of_Orders FROM Orders LEFT JOIN Employees ON Orders.EmployeeID = Employees.EmployeeID GROUP BY Employees.LastName) ORDER BY Number_of_Orders DESC\n",
    "\n",
    "Result: Peacock : 40 \n",
    "\n",
    "##### c)What product was ordered the most by customers in Germany?\n",
    "- SELECT TOP 1 ProductName, Number_of_Orders FROM Products RIGHT JOIN (SELECT ProductID, SUM(Quantity) as Number_of_Orders FROM OrderDetails RIGHT JOIN (SELECT OrderID FROM Orders LEFT JOIN Customers ON Orders.CustomerID = Customers.CustomerID WHERE Customers.Country = 'Germany') as Od ON OrderDetails.OrderID = Od.OrderID GROUP BY ProductID) as Pd ON Products.ProductID = Pd.productID ORDER BY Number_of_Orders DESC\n",
    "\n",
    "Result: Boston Crab Meat : 160 "
   ]
  }
 ],
 "metadata": {
  "kernelspec": {
   "display_name": "Python 3",
   "language": "python",
   "name": "python3"
  },
  "language_info": {
   "codemirror_mode": {
    "name": "ipython",
    "version": 3
   },
   "file_extension": ".py",
   "mimetype": "text/x-python",
   "name": "python",
   "nbconvert_exporter": "python",
   "pygments_lexer": "ipython3",
   "version": "3.8.8"
  }
 },
 "nbformat": 4,
 "nbformat_minor": 5
}
