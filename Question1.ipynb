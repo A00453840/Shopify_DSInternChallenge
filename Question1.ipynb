{
 "cells": [
  {
   "cell_type": "markdown",
   "id": "b1e7d678",
   "metadata": {},
   "source": [
    "# Question 1"
   ]
  },
  {
   "cell_type": "code",
   "execution_count": 180,
   "id": "530a1eaf",
   "metadata": {},
   "outputs": [],
   "source": [
    "#Importing required libraries\n",
    "import pandas as pd\n",
    "import matplotlib.pyplot as plt\n",
    "import seaborn as sns\n",
    "import numpy as np"
   ]
  },
  {
   "cell_type": "code",
   "execution_count": 181,
   "id": "e4382c55",
   "metadata": {},
   "outputs": [
    {
     "data": {
      "text/html": [
       "<div>\n",
       "<style scoped>\n",
       "    .dataframe tbody tr th:only-of-type {\n",
       "        vertical-align: middle;\n",
       "    }\n",
       "\n",
       "    .dataframe tbody tr th {\n",
       "        vertical-align: top;\n",
       "    }\n",
       "\n",
       "    .dataframe thead th {\n",
       "        text-align: right;\n",
       "    }\n",
       "</style>\n",
       "<table border=\"1\" class=\"dataframe\">\n",
       "  <thead>\n",
       "    <tr style=\"text-align: right;\">\n",
       "      <th></th>\n",
       "      <th>order_id</th>\n",
       "      <th>shop_id</th>\n",
       "      <th>user_id</th>\n",
       "      <th>order_amount</th>\n",
       "      <th>total_items</th>\n",
       "      <th>payment_method</th>\n",
       "      <th>created_at</th>\n",
       "    </tr>\n",
       "  </thead>\n",
       "  <tbody>\n",
       "    <tr>\n",
       "      <th>0</th>\n",
       "      <td>1</td>\n",
       "      <td>53</td>\n",
       "      <td>746</td>\n",
       "      <td>224</td>\n",
       "      <td>2</td>\n",
       "      <td>cash</td>\n",
       "      <td>2017-03-13 12:36:56</td>\n",
       "    </tr>\n",
       "    <tr>\n",
       "      <th>1</th>\n",
       "      <td>2</td>\n",
       "      <td>92</td>\n",
       "      <td>925</td>\n",
       "      <td>90</td>\n",
       "      <td>1</td>\n",
       "      <td>cash</td>\n",
       "      <td>2017-03-03 17:38:52</td>\n",
       "    </tr>\n",
       "    <tr>\n",
       "      <th>2</th>\n",
       "      <td>3</td>\n",
       "      <td>44</td>\n",
       "      <td>861</td>\n",
       "      <td>144</td>\n",
       "      <td>1</td>\n",
       "      <td>cash</td>\n",
       "      <td>2017-03-14 4:23:56</td>\n",
       "    </tr>\n",
       "    <tr>\n",
       "      <th>3</th>\n",
       "      <td>4</td>\n",
       "      <td>18</td>\n",
       "      <td>935</td>\n",
       "      <td>156</td>\n",
       "      <td>1</td>\n",
       "      <td>credit_card</td>\n",
       "      <td>2017-03-26 12:43:37</td>\n",
       "    </tr>\n",
       "    <tr>\n",
       "      <th>4</th>\n",
       "      <td>5</td>\n",
       "      <td>18</td>\n",
       "      <td>883</td>\n",
       "      <td>156</td>\n",
       "      <td>1</td>\n",
       "      <td>credit_card</td>\n",
       "      <td>2017-03-01 4:35:11</td>\n",
       "    </tr>\n",
       "  </tbody>\n",
       "</table>\n",
       "</div>"
      ],
      "text/plain": [
       "   order_id  shop_id  user_id  order_amount  total_items payment_method  \\\n",
       "0         1       53      746           224            2           cash   \n",
       "1         2       92      925            90            1           cash   \n",
       "2         3       44      861           144            1           cash   \n",
       "3         4       18      935           156            1    credit_card   \n",
       "4         5       18      883           156            1    credit_card   \n",
       "\n",
       "            created_at  \n",
       "0  2017-03-13 12:36:56  \n",
       "1  2017-03-03 17:38:52  \n",
       "2   2017-03-14 4:23:56  \n",
       "3  2017-03-26 12:43:37  \n",
       "4   2017-03-01 4:35:11  "
      ]
     },
     "execution_count": 181,
     "metadata": {},
     "output_type": "execute_result"
    }
   ],
   "source": [
    "#loading given data\n",
    "sneakers_df = pd.read_csv('C:\\\\Users\\\\nikhi\\\\Downloads\\\\2019 Winter Data Science Intern Challenge Data Set - Sheet1.csv')\n",
    "sneakers_df.head()"
   ]
  },
  {
   "cell_type": "code",
   "execution_count": 182,
   "id": "d9e24481",
   "metadata": {},
   "outputs": [
    {
     "name": "stdout",
     "output_type": "stream",
     "text": [
      "3145.128\n"
     ]
    }
   ],
   "source": [
    "#Finding average order value (or) mean of the order amount\n",
    "print(sneakers_df['order_amount'].mean())"
   ]
  },
  {
   "cell_type": "markdown",
   "id": "0d2ca039",
   "metadata": {},
   "source": [
    "We can clearly see that the Average Order Value is unusually high for a product such as sneakers.\n",
    "\n",
    "a) what could be going wrong with our calculation?\n",
    "- We havent considered the possiblity of Outlier(s) present in the given data\n",
    "- There may be a records of bulk orders present in the given data, which would have shot-up the AOV value high.\n",
    "- Or there maybe an error in recoding the data (human or technical error), which would have influenced the high AOV value."
   ]
  },
  {
   "cell_type": "markdown",
   "id": "f2294f87",
   "metadata": {},
   "source": [
    "Lets use describe() function to have a better view of the given data."
   ]
  },
  {
   "cell_type": "code",
   "execution_count": 183,
   "id": "7ec633d6",
   "metadata": {},
   "outputs": [
    {
     "data": {
      "text/plain": [
       "count      5000.000000\n",
       "mean       3145.128000\n",
       "std       41282.539349\n",
       "min          90.000000\n",
       "25%         163.000000\n",
       "50%         284.000000\n",
       "75%         390.000000\n",
       "max      704000.000000\n",
       "Name: order_amount, dtype: float64"
      ]
     },
     "execution_count": 183,
     "metadata": {},
     "output_type": "execute_result"
    }
   ],
   "source": [
    "sneakers_df['order_amount'].describe()"
   ]
  },
  {
   "cell_type": "markdown",
   "id": "57c93271",
   "metadata": {},
   "source": [
    "We can observe that the standard deviation value is very high which indicates the presence of outlier(s).\n",
    "\n",
    "Lets polot boxplots to identify the outlier(s)"
   ]
  },
  {
   "cell_type": "code",
   "execution_count": 190,
   "id": "847e13ec",
   "metadata": {},
   "outputs": [
    {
     "data": {
      "text/plain": [
       "<AxesSubplot:>"
      ]
     },
     "execution_count": 190,
     "metadata": {},
     "output_type": "execute_result"
    },
    {
     "data": {
      "image/png": "[encoded data removed]",
      "text/plain": [
       "<Figure size 1080x360 with 2 Axes>"
      ]
     },
     "metadata": {},
     "output_type": "display_data"
    }
   ],
   "source": [
    "#Ploting boxplot for order_amount values\n",
    "f, axes = plt.subplots(1, 2)\n",
    "sns.boxplot(data=sneakers_df['order_amount'], ax=axes[0])\n",
    "sns.boxplot(data=sneakers_df['order_amount'], ax=axes[1], showfliers=False)"
   ]
  },
  {
   "cell_type": "code",
   "execution_count": 191,
   "id": "e36d93e4",
   "metadata": {},
   "outputs": [
    {
     "data": {
      "text/plain": [
       "<AxesSubplot:>"
      ]
     },
     "execution_count": 191,
     "metadata": {},
     "output_type": "execute_result"
    },
    {
     "data": {
      "image/png": "[encoded data removed]",
      "text/plain": [
       "<Figure size 1080x360 with 2 Axes>"
      ]
     },
     "metadata": {},
     "output_type": "display_data"
    }
   ],
   "source": [
    "#Ploting boxplot for total_items values\n",
    "f, axes = plt.subplots(1, 2)\n",
    "sns.boxplot(data=sneakers_df['total_items'], ax=axes[0])\n",
    "sns.boxplot(data=sneakers_df['total_items'], ax=axes[1], showfliers=False)"
   ]
  },
  {
   "cell_type": "code",
   "execution_count": 192,
   "id": "756fda47",
   "metadata": {},
   "outputs": [
    {
     "data": {
      "text/plain": [
       "[(0.0, 10.0)]"
      ]
     },
     "execution_count": 192,
     "metadata": {},
     "output_type": "execute_result"
    },
    {
     "data": {
      "image/png": "[encoded data removed]",
      "text/plain": [
       "<Figure size 1080x360 with 1 Axes>"
      ]
     },
     "metadata": {},
     "output_type": "display_data"
    }
   ],
   "source": [
    "plt1 = sns.boxplot(data=sneakers_df['total_items'])\n",
    "plt1.set(ylim=(0,10))"
   ]
  },
  {
   "cell_type": "markdown",
   "id": "5a499ef5",
   "metadata": {},
   "source": [
    "As per the plotted boxplot we can say that orders having total_items value above 6 can be considered as outliers and we can categorize these orders as bulk orders. "
   ]
  },
  {
   "cell_type": "code",
   "execution_count": 193,
   "id": "b9d49c9c",
   "metadata": {},
   "outputs": [],
   "source": [
    "#Seperated bulk orders from the dataframe and stored them in a new dataframe\n",
    "bulkOrder_df = sneakers_df[sneakers_df.total_items > 6]\n",
    "sneakers_df.drop(sneakers_df[sneakers_df.total_items > 6].index, inplace=True)"
   ]
  },
  {
   "cell_type": "code",
   "execution_count": 194,
   "id": "27107fdf",
   "metadata": {},
   "outputs": [
    {
     "data": {
      "text/html": [
       "<div>\n",
       "<style scoped>\n",
       "    .dataframe tbody tr th:only-of-type {\n",
       "        vertical-align: middle;\n",
       "    }\n",
       "\n",
       "    .dataframe tbody tr th {\n",
       "        vertical-align: top;\n",
       "    }\n",
       "\n",
       "    .dataframe thead th {\n",
       "        text-align: right;\n",
       "    }\n",
       "</style>\n",
       "<table border=\"1\" class=\"dataframe\">\n",
       "  <thead>\n",
       "    <tr style=\"text-align: right;\">\n",
       "      <th></th>\n",
       "      <th>order_id</th>\n",
       "      <th>shop_id</th>\n",
       "      <th>user_id</th>\n",
       "      <th>order_amount</th>\n",
       "      <th>total_items</th>\n",
       "      <th>payment_method</th>\n",
       "      <th>created_at</th>\n",
       "    </tr>\n",
       "  </thead>\n",
       "  <tbody>\n",
       "    <tr>\n",
       "      <th>15</th>\n",
       "      <td>16</td>\n",
       "      <td>42</td>\n",
       "      <td>607</td>\n",
       "      <td>704000</td>\n",
       "      <td>2000</td>\n",
       "      <td>credit_card</td>\n",
       "      <td>2017-03-07 4:00:00</td>\n",
       "    </tr>\n",
       "    <tr>\n",
       "      <th>60</th>\n",
       "      <td>61</td>\n",
       "      <td>42</td>\n",
       "      <td>607</td>\n",
       "      <td>704000</td>\n",
       "      <td>2000</td>\n",
       "      <td>credit_card</td>\n",
       "      <td>2017-03-04 4:00:00</td>\n",
       "    </tr>\n",
       "    <tr>\n",
       "      <th>520</th>\n",
       "      <td>521</td>\n",
       "      <td>42</td>\n",
       "      <td>607</td>\n",
       "      <td>704000</td>\n",
       "      <td>2000</td>\n",
       "      <td>credit_card</td>\n",
       "      <td>2017-03-02 4:00:00</td>\n",
       "    </tr>\n",
       "    <tr>\n",
       "      <th>1104</th>\n",
       "      <td>1105</td>\n",
       "      <td>42</td>\n",
       "      <td>607</td>\n",
       "      <td>704000</td>\n",
       "      <td>2000</td>\n",
       "      <td>credit_card</td>\n",
       "      <td>2017-03-24 4:00:00</td>\n",
       "    </tr>\n",
       "    <tr>\n",
       "      <th>1362</th>\n",
       "      <td>1363</td>\n",
       "      <td>42</td>\n",
       "      <td>607</td>\n",
       "      <td>704000</td>\n",
       "      <td>2000</td>\n",
       "      <td>credit_card</td>\n",
       "      <td>2017-03-15 4:00:00</td>\n",
       "    </tr>\n",
       "  </tbody>\n",
       "</table>\n",
       "</div>"
      ],
      "text/plain": [
       "      order_id  shop_id  user_id  order_amount  total_items payment_method  \\\n",
       "15          16       42      607        704000         2000    credit_card   \n",
       "60          61       42      607        704000         2000    credit_card   \n",
       "520        521       42      607        704000         2000    credit_card   \n",
       "1104      1105       42      607        704000         2000    credit_card   \n",
       "1362      1363       42      607        704000         2000    credit_card   \n",
       "\n",
       "              created_at  \n",
       "15    2017-03-07 4:00:00  \n",
       "60    2017-03-04 4:00:00  \n",
       "520   2017-03-02 4:00:00  \n",
       "1104  2017-03-24 4:00:00  \n",
       "1362  2017-03-15 4:00:00  "
      ]
     },
     "execution_count": 194,
     "metadata": {},
     "output_type": "execute_result"
    }
   ],
   "source": [
    "bulkOrder_df.head()"
   ]
  },
  {
   "cell_type": "code",
   "execution_count": 195,
   "id": "00ff582b",
   "metadata": {},
   "outputs": [
    {
     "name": "stdout",
     "output_type": "stream",
     "text": [
      "754.029706945002\n"
     ]
    }
   ],
   "source": [
    "#Finding average order value (or) mean of the order amount again \n",
    "print(sneakers_df['order_amount'].mean())"
   ]
  },
  {
   "cell_type": "markdown",
   "id": "bda089d4",
   "metadata": {},
   "source": [
    "We can see that the AOV is still high\n",
    "\n",
    "Lets plot boxplot against order_amount to check if there are still any outlier(s) present"
   ]
  },
  {
   "cell_type": "code",
   "execution_count": 196,
   "id": "235cdfbb",
   "metadata": {},
   "outputs": [
    {
     "data": {
      "text/plain": [
       "<AxesSubplot:>"
      ]
     },
     "execution_count": 196,
     "metadata": {},
     "output_type": "execute_result"
    },
    {
     "data": {
      "image/png": "[encoded data removed]",
      "text/plain": [
       "<Figure size 1080x360 with 2 Axes>"
      ]
     },
     "metadata": {},
     "output_type": "display_data"
    }
   ],
   "source": [
    "f, axes = plt.subplots(1, 2)\n",
    "sns.boxplot(data=sneakers_df['order_amount'], ax=axes[0])\n",
    "sns.boxplot(data=sneakers_df['order_amount'], ax=axes[1], showfliers=False)"
   ]
  },
  {
   "cell_type": "code",
   "execution_count": 197,
   "id": "213d5e61",
   "metadata": {},
   "outputs": [
    {
     "data": {
      "text/html": [
       "<div>\n",
       "<style scoped>\n",
       "    .dataframe tbody tr th:only-of-type {\n",
       "        vertical-align: middle;\n",
       "    }\n",
       "\n",
       "    .dataframe tbody tr th {\n",
       "        vertical-align: top;\n",
       "    }\n",
       "\n",
       "    .dataframe thead th {\n",
       "        text-align: right;\n",
       "    }\n",
       "</style>\n",
       "<table border=\"1\" class=\"dataframe\">\n",
       "  <thead>\n",
       "    <tr style=\"text-align: right;\">\n",
       "      <th></th>\n",
       "      <th>order_id</th>\n",
       "      <th>shop_id</th>\n",
       "      <th>user_id</th>\n",
       "      <th>order_amount</th>\n",
       "      <th>total_items</th>\n",
       "      <th>payment_method</th>\n",
       "      <th>created_at</th>\n",
       "    </tr>\n",
       "  </thead>\n",
       "  <tbody>\n",
       "    <tr>\n",
       "      <th>691</th>\n",
       "      <td>692</td>\n",
       "      <td>78</td>\n",
       "      <td>878</td>\n",
       "      <td>154350</td>\n",
       "      <td>6</td>\n",
       "      <td>debit</td>\n",
       "      <td>2017-03-27 22:51:43</td>\n",
       "    </tr>\n",
       "    <tr>\n",
       "      <th>2492</th>\n",
       "      <td>2493</td>\n",
       "      <td>78</td>\n",
       "      <td>834</td>\n",
       "      <td>102900</td>\n",
       "      <td>4</td>\n",
       "      <td>debit</td>\n",
       "      <td>2017-03-04 4:37:34</td>\n",
       "    </tr>\n",
       "    <tr>\n",
       "      <th>1259</th>\n",
       "      <td>1260</td>\n",
       "      <td>78</td>\n",
       "      <td>775</td>\n",
       "      <td>77175</td>\n",
       "      <td>3</td>\n",
       "      <td>credit_card</td>\n",
       "      <td>2017-03-27 9:27:20</td>\n",
       "    </tr>\n",
       "    <tr>\n",
       "      <th>4420</th>\n",
       "      <td>4421</td>\n",
       "      <td>78</td>\n",
       "      <td>969</td>\n",
       "      <td>77175</td>\n",
       "      <td>3</td>\n",
       "      <td>debit</td>\n",
       "      <td>2017-03-09 15:21:35</td>\n",
       "    </tr>\n",
       "    <tr>\n",
       "      <th>3724</th>\n",
       "      <td>3725</td>\n",
       "      <td>78</td>\n",
       "      <td>766</td>\n",
       "      <td>77175</td>\n",
       "      <td>3</td>\n",
       "      <td>credit_card</td>\n",
       "      <td>2017-03-16 14:13:26</td>\n",
       "    </tr>\n",
       "    <tr>\n",
       "      <th>...</th>\n",
       "      <td>...</td>\n",
       "      <td>...</td>\n",
       "      <td>...</td>\n",
       "      <td>...</td>\n",
       "      <td>...</td>\n",
       "      <td>...</td>\n",
       "      <td>...</td>\n",
       "    </tr>\n",
       "    <tr>\n",
       "      <th>4932</th>\n",
       "      <td>4933</td>\n",
       "      <td>92</td>\n",
       "      <td>823</td>\n",
       "      <td>90</td>\n",
       "      <td>1</td>\n",
       "      <td>credit_card</td>\n",
       "      <td>2017-03-24 2:17:13</td>\n",
       "    </tr>\n",
       "    <tr>\n",
       "      <th>2503</th>\n",
       "      <td>2504</td>\n",
       "      <td>92</td>\n",
       "      <td>935</td>\n",
       "      <td>90</td>\n",
       "      <td>1</td>\n",
       "      <td>credit_card</td>\n",
       "      <td>2017-03-28 2:30:26</td>\n",
       "    </tr>\n",
       "    <tr>\n",
       "      <th>1</th>\n",
       "      <td>2</td>\n",
       "      <td>92</td>\n",
       "      <td>925</td>\n",
       "      <td>90</td>\n",
       "      <td>1</td>\n",
       "      <td>cash</td>\n",
       "      <td>2017-03-03 17:38:52</td>\n",
       "    </tr>\n",
       "    <tr>\n",
       "      <th>3363</th>\n",
       "      <td>3364</td>\n",
       "      <td>92</td>\n",
       "      <td>730</td>\n",
       "      <td>90</td>\n",
       "      <td>1</td>\n",
       "      <td>credit_card</td>\n",
       "      <td>2017-03-11 23:20:31</td>\n",
       "    </tr>\n",
       "    <tr>\n",
       "      <th>1843</th>\n",
       "      <td>1844</td>\n",
       "      <td>92</td>\n",
       "      <td>987</td>\n",
       "      <td>90</td>\n",
       "      <td>1</td>\n",
       "      <td>debit</td>\n",
       "      <td>2017-03-06 7:01:09</td>\n",
       "    </tr>\n",
       "  </tbody>\n",
       "</table>\n",
       "<p>4982 rows × 7 columns</p>\n",
       "</div>"
      ],
      "text/plain": [
       "      order_id  shop_id  user_id  order_amount  total_items payment_method  \\\n",
       "691        692       78      878        154350            6          debit   \n",
       "2492      2493       78      834        102900            4          debit   \n",
       "1259      1260       78      775         77175            3    credit_card   \n",
       "4420      4421       78      969         77175            3          debit   \n",
       "3724      3725       78      766         77175            3    credit_card   \n",
       "...        ...      ...      ...           ...          ...            ...   \n",
       "4932      4933       92      823            90            1    credit_card   \n",
       "2503      2504       92      935            90            1    credit_card   \n",
       "1            2       92      925            90            1           cash   \n",
       "3363      3364       92      730            90            1    credit_card   \n",
       "1843      1844       92      987            90            1          debit   \n",
       "\n",
       "               created_at  \n",
       "691   2017-03-27 22:51:43  \n",
       "2492   2017-03-04 4:37:34  \n",
       "1259   2017-03-27 9:27:20  \n",
       "4420  2017-03-09 15:21:35  \n",
       "3724  2017-03-16 14:13:26  \n",
       "...                   ...  \n",
       "4932   2017-03-24 2:17:13  \n",
       "2503   2017-03-28 2:30:26  \n",
       "1     2017-03-03 17:38:52  \n",
       "3363  2017-03-11 23:20:31  \n",
       "1843   2017-03-06 7:01:09  \n",
       "\n",
       "[4982 rows x 7 columns]"
      ]
     },
     "execution_count": 197,
     "metadata": {},
     "output_type": "execute_result"
    }
   ],
   "source": [
    "#Sorting by order_amount value\n",
    "sneakers_df.sort_values('order_amount',ascending = False)"
   ]
  },
  {
   "cell_type": "markdown",
   "id": "28e0cfb2",
   "metadata": {},
   "source": [
    "Lets find item price for these orders to effectively identify the outliers"
   ]
  },
  {
   "cell_type": "code",
   "execution_count": 198,
   "id": "1d88f910",
   "metadata": {},
   "outputs": [
    {
     "data": {
      "text/html": [
       "<div>\n",
       "<style scoped>\n",
       "    .dataframe tbody tr th:only-of-type {\n",
       "        vertical-align: middle;\n",
       "    }\n",
       "\n",
       "    .dataframe tbody tr th {\n",
       "        vertical-align: top;\n",
       "    }\n",
       "\n",
       "    .dataframe thead th {\n",
       "        text-align: right;\n",
       "    }\n",
       "</style>\n",
       "<table border=\"1\" class=\"dataframe\">\n",
       "  <thead>\n",
       "    <tr style=\"text-align: right;\">\n",
       "      <th></th>\n",
       "      <th>order_id</th>\n",
       "      <th>shop_id</th>\n",
       "      <th>user_id</th>\n",
       "      <th>order_amount</th>\n",
       "      <th>total_items</th>\n",
       "      <th>payment_method</th>\n",
       "      <th>created_at</th>\n",
       "      <th>item_price</th>\n",
       "    </tr>\n",
       "  </thead>\n",
       "  <tbody>\n",
       "    <tr>\n",
       "      <th>2492</th>\n",
       "      <td>2493</td>\n",
       "      <td>78</td>\n",
       "      <td>834</td>\n",
       "      <td>102900</td>\n",
       "      <td>4</td>\n",
       "      <td>debit</td>\n",
       "      <td>2017-03-04 4:37:34</td>\n",
       "      <td>25725.0</td>\n",
       "    </tr>\n",
       "    <tr>\n",
       "      <th>1204</th>\n",
       "      <td>1205</td>\n",
       "      <td>78</td>\n",
       "      <td>970</td>\n",
       "      <td>25725</td>\n",
       "      <td>1</td>\n",
       "      <td>credit_card</td>\n",
       "      <td>2017-03-17 22:32:21</td>\n",
       "      <td>25725.0</td>\n",
       "    </tr>\n",
       "    <tr>\n",
       "      <th>2452</th>\n",
       "      <td>2453</td>\n",
       "      <td>78</td>\n",
       "      <td>709</td>\n",
       "      <td>51450</td>\n",
       "      <td>2</td>\n",
       "      <td>cash</td>\n",
       "      <td>2017-03-27 11:04:04</td>\n",
       "      <td>25725.0</td>\n",
       "    </tr>\n",
       "    <tr>\n",
       "      <th>4420</th>\n",
       "      <td>4421</td>\n",
       "      <td>78</td>\n",
       "      <td>969</td>\n",
       "      <td>77175</td>\n",
       "      <td>3</td>\n",
       "      <td>debit</td>\n",
       "      <td>2017-03-09 15:21:35</td>\n",
       "      <td>25725.0</td>\n",
       "    </tr>\n",
       "    <tr>\n",
       "      <th>4040</th>\n",
       "      <td>4041</td>\n",
       "      <td>78</td>\n",
       "      <td>852</td>\n",
       "      <td>25725</td>\n",
       "      <td>1</td>\n",
       "      <td>cash</td>\n",
       "      <td>2017-03-02 14:31:12</td>\n",
       "      <td>25725.0</td>\n",
       "    </tr>\n",
       "    <tr>\n",
       "      <th>...</th>\n",
       "      <td>...</td>\n",
       "      <td>...</td>\n",
       "      <td>...</td>\n",
       "      <td>...</td>\n",
       "      <td>...</td>\n",
       "      <td>...</td>\n",
       "      <td>...</td>\n",
       "      <td>...</td>\n",
       "    </tr>\n",
       "    <tr>\n",
       "      <th>368</th>\n",
       "      <td>369</td>\n",
       "      <td>92</td>\n",
       "      <td>906</td>\n",
       "      <td>180</td>\n",
       "      <td>2</td>\n",
       "      <td>cash</td>\n",
       "      <td>2017-03-05 0:22:59</td>\n",
       "      <td>90.0</td>\n",
       "    </tr>\n",
       "    <tr>\n",
       "      <th>2714</th>\n",
       "      <td>2715</td>\n",
       "      <td>92</td>\n",
       "      <td>905</td>\n",
       "      <td>180</td>\n",
       "      <td>2</td>\n",
       "      <td>cash</td>\n",
       "      <td>2017-03-15 17:02:28</td>\n",
       "      <td>90.0</td>\n",
       "    </tr>\n",
       "    <tr>\n",
       "      <th>1927</th>\n",
       "      <td>1928</td>\n",
       "      <td>92</td>\n",
       "      <td>960</td>\n",
       "      <td>270</td>\n",
       "      <td>3</td>\n",
       "      <td>debit</td>\n",
       "      <td>2017-03-21 3:44:08</td>\n",
       "      <td>90.0</td>\n",
       "    </tr>\n",
       "    <tr>\n",
       "      <th>322</th>\n",
       "      <td>323</td>\n",
       "      <td>92</td>\n",
       "      <td>783</td>\n",
       "      <td>90</td>\n",
       "      <td>1</td>\n",
       "      <td>debit</td>\n",
       "      <td>2017-03-08 3:49:15</td>\n",
       "      <td>90.0</td>\n",
       "    </tr>\n",
       "    <tr>\n",
       "      <th>1890</th>\n",
       "      <td>1891</td>\n",
       "      <td>92</td>\n",
       "      <td>824</td>\n",
       "      <td>180</td>\n",
       "      <td>2</td>\n",
       "      <td>debit</td>\n",
       "      <td>2017-03-12 8:14:36</td>\n",
       "      <td>90.0</td>\n",
       "    </tr>\n",
       "  </tbody>\n",
       "</table>\n",
       "<p>4982 rows × 8 columns</p>\n",
       "</div>"
      ],
      "text/plain": [
       "      order_id  shop_id  user_id  order_amount  total_items payment_method  \\\n",
       "2492      2493       78      834        102900            4          debit   \n",
       "1204      1205       78      970         25725            1    credit_card   \n",
       "2452      2453       78      709         51450            2           cash   \n",
       "4420      4421       78      969         77175            3          debit   \n",
       "4040      4041       78      852         25725            1           cash   \n",
       "...        ...      ...      ...           ...          ...            ...   \n",
       "368        369       92      906           180            2           cash   \n",
       "2714      2715       92      905           180            2           cash   \n",
       "1927      1928       92      960           270            3          debit   \n",
       "322        323       92      783            90            1          debit   \n",
       "1890      1891       92      824           180            2          debit   \n",
       "\n",
       "               created_at  item_price  \n",
       "2492   2017-03-04 4:37:34     25725.0  \n",
       "1204  2017-03-17 22:32:21     25725.0  \n",
       "2452  2017-03-27 11:04:04     25725.0  \n",
       "4420  2017-03-09 15:21:35     25725.0  \n",
       "4040  2017-03-02 14:31:12     25725.0  \n",
       "...                   ...         ...  \n",
       "368    2017-03-05 0:22:59        90.0  \n",
       "2714  2017-03-15 17:02:28        90.0  \n",
       "1927   2017-03-21 3:44:08        90.0  \n",
       "322    2017-03-08 3:49:15        90.0  \n",
       "1890   2017-03-12 8:14:36        90.0  \n",
       "\n",
       "[4982 rows x 8 columns]"
      ]
     },
     "execution_count": 198,
     "metadata": {},
     "output_type": "execute_result"
    }
   ],
   "source": [
    "#Dividing Total Order Amount by Total Number of Items gives the Price per Item value\n",
    "sneakers_df['item_price']=sneakers_df['order_amount']/sneakers_df['total_items']\n",
    "sneakers_df.sort_values('item_price',ascending = False)"
   ]
  },
  {
   "cell_type": "markdown",
   "id": "68d3362f",
   "metadata": {},
   "source": [
    "We can clearly see that there are multiple records where the price for a pair of sneakers (item_price) is very high. This is maybe due to an error in recoding the data or other technical error. Hence, these can be considered as outliers."
   ]
  },
  {
   "cell_type": "markdown",
   "id": "7356876a",
   "metadata": {},
   "source": [
    "Lets plot boxplot against item_price to better identify the order records that can be considered as outliers"
   ]
  },
  {
   "cell_type": "code",
   "execution_count": 199,
   "id": "4df7516a",
   "metadata": {},
   "outputs": [
    {
     "data": {
      "text/plain": [
       "<AxesSubplot:>"
      ]
     },
     "execution_count": 199,
     "metadata": {},
     "output_type": "execute_result"
    },
    {
     "data": {
      "image/png": "[encoded data removed]",
      "text/plain": [
       "<Figure size 1080x360 with 2 Axes>"
      ]
     },
     "metadata": {},
     "output_type": "display_data"
    }
   ],
   "source": [
    "f, axes = plt.subplots(1, 2)\n",
    "sns.boxplot(data=sneakers_df['item_price'], ax=axes[0])\n",
    "sns.boxplot(data=sneakers_df['item_price'], ax=axes[1], showfliers=False)"
   ]
  },
  {
   "cell_type": "code",
   "execution_count": 200,
   "id": "cf0f6e69",
   "metadata": {},
   "outputs": [
    {
     "data": {
      "text/plain": [
       "[(0.0, 500.0)]"
      ]
     },
     "execution_count": 200,
     "metadata": {},
     "output_type": "execute_result"
    },
    {
     "data": {
      "image/png": "[encoded data removed]",
      "text/plain": [
       "<Figure size 1080x360 with 1 Axes>"
      ]
     },
     "metadata": {},
     "output_type": "display_data"
    }
   ],
   "source": [
    "plt2 = sns.boxplot(data=sneakers_df['item_price'])\n",
    "plt2.set(ylim=(0,500))"
   ]
  },
  {
   "cell_type": "markdown",
   "id": "28b3da94",
   "metadata": {},
   "source": [
    "From above plots, we can consider the order records with the item_price greater than 250 to be classified as outliers.\n",
    "Lets remove these outliers and then check for the AOV"
   ]
  },
  {
   "cell_type": "code",
   "execution_count": 201,
   "id": "f5a4a517",
   "metadata": {},
   "outputs": [],
   "source": [
    "#Dropping records with item_price > 250 (which we considered as outliers)\n",
    "sneakers_df.drop(sneakers_df[sneakers_df.item_price > 250].index, inplace=True)"
   ]
  },
  {
   "cell_type": "code",
   "execution_count": 202,
   "id": "46328dd2",
   "metadata": {},
   "outputs": [
    {
     "data": {
      "text/html": [
       "<div>\n",
       "<style scoped>\n",
       "    .dataframe tbody tr th:only-of-type {\n",
       "        vertical-align: middle;\n",
       "    }\n",
       "\n",
       "    .dataframe tbody tr th {\n",
       "        vertical-align: top;\n",
       "    }\n",
       "\n",
       "    .dataframe thead th {\n",
       "        text-align: right;\n",
       "    }\n",
       "</style>\n",
       "<table border=\"1\" class=\"dataframe\">\n",
       "  <thead>\n",
       "    <tr style=\"text-align: right;\">\n",
       "      <th></th>\n",
       "      <th>order_id</th>\n",
       "      <th>shop_id</th>\n",
       "      <th>user_id</th>\n",
       "      <th>order_amount</th>\n",
       "      <th>total_items</th>\n",
       "      <th>payment_method</th>\n",
       "      <th>created_at</th>\n",
       "      <th>item_price</th>\n",
       "    </tr>\n",
       "  </thead>\n",
       "  <tbody>\n",
       "    <tr>\n",
       "      <th>3601</th>\n",
       "      <td>3602</td>\n",
       "      <td>12</td>\n",
       "      <td>987</td>\n",
       "      <td>201</td>\n",
       "      <td>1</td>\n",
       "      <td>debit</td>\n",
       "      <td>2017-03-09 8:42:23</td>\n",
       "      <td>201.0</td>\n",
       "    </tr>\n",
       "    <tr>\n",
       "      <th>2228</th>\n",
       "      <td>2229</td>\n",
       "      <td>12</td>\n",
       "      <td>813</td>\n",
       "      <td>201</td>\n",
       "      <td>1</td>\n",
       "      <td>debit</td>\n",
       "      <td>2017-03-02 10:52:05</td>\n",
       "      <td>201.0</td>\n",
       "    </tr>\n",
       "    <tr>\n",
       "      <th>4900</th>\n",
       "      <td>4901</td>\n",
       "      <td>12</td>\n",
       "      <td>774</td>\n",
       "      <td>603</td>\n",
       "      <td>3</td>\n",
       "      <td>debit</td>\n",
       "      <td>2017-03-10 17:48:32</td>\n",
       "      <td>201.0</td>\n",
       "    </tr>\n",
       "    <tr>\n",
       "      <th>1194</th>\n",
       "      <td>1195</td>\n",
       "      <td>12</td>\n",
       "      <td>950</td>\n",
       "      <td>201</td>\n",
       "      <td>1</td>\n",
       "      <td>debit</td>\n",
       "      <td>2017-03-07 16:21:52</td>\n",
       "      <td>201.0</td>\n",
       "    </tr>\n",
       "    <tr>\n",
       "      <th>107</th>\n",
       "      <td>108</td>\n",
       "      <td>12</td>\n",
       "      <td>732</td>\n",
       "      <td>201</td>\n",
       "      <td>1</td>\n",
       "      <td>credit_card</td>\n",
       "      <td>2017-03-21 20:26:18</td>\n",
       "      <td>201.0</td>\n",
       "    </tr>\n",
       "    <tr>\n",
       "      <th>...</th>\n",
       "      <td>...</td>\n",
       "      <td>...</td>\n",
       "      <td>...</td>\n",
       "      <td>...</td>\n",
       "      <td>...</td>\n",
       "      <td>...</td>\n",
       "      <td>...</td>\n",
       "      <td>...</td>\n",
       "    </tr>\n",
       "    <tr>\n",
       "      <th>368</th>\n",
       "      <td>369</td>\n",
       "      <td>92</td>\n",
       "      <td>906</td>\n",
       "      <td>180</td>\n",
       "      <td>2</td>\n",
       "      <td>cash</td>\n",
       "      <td>2017-03-05 0:22:59</td>\n",
       "      <td>90.0</td>\n",
       "    </tr>\n",
       "    <tr>\n",
       "      <th>2912</th>\n",
       "      <td>2913</td>\n",
       "      <td>92</td>\n",
       "      <td>942</td>\n",
       "      <td>180</td>\n",
       "      <td>2</td>\n",
       "      <td>debit</td>\n",
       "      <td>2017-03-18 11:43:55</td>\n",
       "      <td>90.0</td>\n",
       "    </tr>\n",
       "    <tr>\n",
       "      <th>4414</th>\n",
       "      <td>4415</td>\n",
       "      <td>92</td>\n",
       "      <td>927</td>\n",
       "      <td>90</td>\n",
       "      <td>1</td>\n",
       "      <td>credit_card</td>\n",
       "      <td>2017-03-17 9:57:01</td>\n",
       "      <td>90.0</td>\n",
       "    </tr>\n",
       "    <tr>\n",
       "      <th>2871</th>\n",
       "      <td>2872</td>\n",
       "      <td>92</td>\n",
       "      <td>854</td>\n",
       "      <td>180</td>\n",
       "      <td>2</td>\n",
       "      <td>cash</td>\n",
       "      <td>2017-03-09 19:25:11</td>\n",
       "      <td>90.0</td>\n",
       "    </tr>\n",
       "    <tr>\n",
       "      <th>1927</th>\n",
       "      <td>1928</td>\n",
       "      <td>92</td>\n",
       "      <td>960</td>\n",
       "      <td>270</td>\n",
       "      <td>3</td>\n",
       "      <td>debit</td>\n",
       "      <td>2017-03-21 3:44:08</td>\n",
       "      <td>90.0</td>\n",
       "    </tr>\n",
       "  </tbody>\n",
       "</table>\n",
       "<p>4902 rows × 8 columns</p>\n",
       "</div>"
      ],
      "text/plain": [
       "      order_id  shop_id  user_id  order_amount  total_items payment_method  \\\n",
       "3601      3602       12      987           201            1          debit   \n",
       "2228      2229       12      813           201            1          debit   \n",
       "4900      4901       12      774           603            3          debit   \n",
       "1194      1195       12      950           201            1          debit   \n",
       "107        108       12      732           201            1    credit_card   \n",
       "...        ...      ...      ...           ...          ...            ...   \n",
       "368        369       92      906           180            2           cash   \n",
       "2912      2913       92      942           180            2          debit   \n",
       "4414      4415       92      927            90            1    credit_card   \n",
       "2871      2872       92      854           180            2           cash   \n",
       "1927      1928       92      960           270            3          debit   \n",
       "\n",
       "               created_at  item_price  \n",
       "3601   2017-03-09 8:42:23       201.0  \n",
       "2228  2017-03-02 10:52:05       201.0  \n",
       "4900  2017-03-10 17:48:32       201.0  \n",
       "1194  2017-03-07 16:21:52       201.0  \n",
       "107   2017-03-21 20:26:18       201.0  \n",
       "...                   ...         ...  \n",
       "368    2017-03-05 0:22:59        90.0  \n",
       "2912  2017-03-18 11:43:55        90.0  \n",
       "4414   2017-03-17 9:57:01        90.0  \n",
       "2871  2017-03-09 19:25:11        90.0  \n",
       "1927   2017-03-21 3:44:08        90.0  \n",
       "\n",
       "[4902 rows x 8 columns]"
      ]
     },
     "execution_count": 202,
     "metadata": {},
     "output_type": "execute_result"
    }
   ],
   "source": [
    "#Sorting the records aginst item_price (in decending order) and displaying them\n",
    "sneakers_df.sort_values('item_price',ascending = False)"
   ]
  },
  {
   "cell_type": "markdown",
   "id": "740566e1",
   "metadata": {},
   "source": [
    "b) & c) What metric would you report for this dataset and What is its value?\n",
    "- We can report the Average Order Value of General orders (non-bulk orders)\n",
    "- We can report the Average Order Value of Bulk orders\n",
    "- We can report the Average number of Items ordered per order of General orders (non-bulk orders)\n",
    "- We can report the Average number of Items ordered per order of Bulk orders\n",
    "\n",
    "below are the values for them:"
   ]
  },
  {
   "cell_type": "markdown",
   "id": "f508608e",
   "metadata": {},
   "source": [
    "#### The Average Order Value for general orders (non-bulk orders) is $300."
   ]
  },
  {
   "cell_type": "code",
   "execution_count": 203,
   "id": "d9aa41d5",
   "metadata": {},
   "outputs": [
    {
     "name": "stdout",
     "output_type": "stream",
     "text": [
      "300.0\n"
     ]
    }
   ],
   "source": [
    "#Finding the mean of order_amount or the Average Order Value (AOV)\n",
    "print(sneakers_df['order_amount'].mean())"
   ]
  },
  {
   "cell_type": "markdown",
   "id": "15d40c45",
   "metadata": {},
   "source": [
    "#### The Average Order Value for general orders (non-bulk orders) is $664948."
   ]
  },
  {
   "cell_type": "code",
   "execution_count": 204,
   "id": "9c6e1071",
   "metadata": {},
   "outputs": [
    {
     "name": "stdout",
     "output_type": "stream",
     "text": [
      "664948.0\n"
     ]
    }
   ],
   "source": [
    "#Finding the mean of order_amount or the Average Order Value (AOV) for bulkOrders\n",
    "print(bulkOrder_df['order_amount'].mean())"
   ]
  },
  {
   "cell_type": "markdown",
   "id": "84290a25",
   "metadata": {},
   "source": [
    "#### The Average number of Items ordered per order of General orders (non-bulk orders) is 2."
   ]
  },
  {
   "cell_type": "code",
   "execution_count": 205,
   "id": "54cdfddf",
   "metadata": {},
   "outputs": [
    {
     "name": "stdout",
     "output_type": "stream",
     "text": [
      "2\n"
     ]
    }
   ],
   "source": [
    "print(round(sneakers_df['total_items'].mean()))"
   ]
  },
  {
   "cell_type": "markdown",
   "id": "beb3481e",
   "metadata": {},
   "source": [
    "#### The Average number of Items ordered per order of Bulk orders is 1889."
   ]
  },
  {
   "cell_type": "code",
   "execution_count": 206,
   "id": "e1adcc19",
   "metadata": {},
   "outputs": [
    {
     "name": "stdout",
     "output_type": "stream",
     "text": [
      "1889\n"
     ]
    }
   ],
   "source": [
    "print(round(bulkOrder_df['total_items'].mean()))"
   ]
  },
  {
   "cell_type": "markdown",
   "id": "65fa6bad",
   "metadata": {},
   "source": [
    "### We could also aggregate the data by day and find per day metrics of Average Order Value and Average number of items ordered per order."
   ]
  }
 ],
 "metadata": {
  "kernelspec": {
   "display_name": "Python 3",
   "language": "python",
   "name": "python3"
  },
  "language_info": {
   "codemirror_mode": {
    "name": "ipython",
    "version": 3
   },
   "file_extension": ".py",
   "mimetype": "text/x-python",
   "name": "python",
   "nbconvert_exporter": "python",
   "pygments_lexer": "ipython3",
   "version": "3.8.8"
  }
 },
 "nbformat": 4,
 "nbformat_minor": 5
}
